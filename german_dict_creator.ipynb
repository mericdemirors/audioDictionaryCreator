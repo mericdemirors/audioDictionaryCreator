{
 "cells": [
  {
   "cell_type": "markdown",
   "metadata": {},
   "source": [
    "## ALMANCA SESLİ SÖZLÜK"
   ]
  },
  {
   "cell_type": "code",
   "execution_count": null,
   "metadata": {},
   "outputs": [],
   "source": [
    "file_path = 'A1_tr.txt'  # Replace with the path to your text file\n",
    "with open(file_path, 'r') as file:\n",
    "    tr1_words = file.readlines()\n",
    "tr1_words = [line.strip() for line in tr1_words]\n",
    "\n",
    "file_path = 'A1_de.txt'  # Replace with the path to your text file\n",
    "with open(file_path, 'r') as file:\n",
    "    de1_words = file.readlines()\n",
    "de1_words = [line.strip() for line in de1_words]\n",
    "\n",
    "file_path = 'A2_tr.txt'  # Replace with the path to your text file\n",
    "with open(file_path, 'r') as file:\n",
    "    tr2_words = file.readlines()\n",
    "tr2_words = [line.strip() for line in tr2_words]\n",
    "\n",
    "file_path = 'A2_de.txt'  # Replace with the path to your text file\n",
    "with open(file_path, 'r') as file:\n",
    "    de2_words = file.readlines()\n",
    "de2_words = [line.strip() for line in de2_words]"
   ]
  },
  {
   "cell_type": "code",
   "execution_count": null,
   "metadata": {},
   "outputs": [],
   "source": [
    "\"\"\"\n",
    "\n",
    "# Open the input text file for reading\n",
    "with open('A2.txt', 'r') as input_file:\n",
    "    # Open the output text file for writing\n",
    "    with open('A2_de.txt', 'w') as output_file:\n",
    "        # Initialize a variable to keep track of the line number\n",
    "        line_number = 0\n",
    "\n",
    "        # Loop through each line in the input file\n",
    "        for line in input_file:\n",
    "            # Increment the line number\n",
    "            line_number += 1\n",
    "\n",
    "            # Check if the line number is odd\n",
    "            if line_number % 2 != 0:\n",
    "                # Write the odd-numbered line to the output file\n",
    "                output_file.write(line)\n",
    "\n",
    "# Close both input and output files\n",
    "input_file.close()\n",
    "output_file.close()\n",
    "\n",
    "\"\"\""
   ]
  },
  {
   "cell_type": "code",
   "execution_count": null,
   "metadata": {},
   "outputs": [],
   "source": [
    "len(tr1_words[430:])"
   ]
  },
  {
   "cell_type": "code",
   "execution_count": null,
   "metadata": {},
   "outputs": [],
   "source": [
    "from text_to_speech import save\n",
    "\n",
    "# 700 kelime 11 dk\n",
    "for e, (tr_w, de_w) in enumerate(zip(tr1_words[430:], de1_words[430:])):\n",
    "    if e%50 == 0:\n",
    "        print(e)\n",
    "    save(tr_w, \"tr\", file=\"./A1/türkçe_kelimeler/\" + tr_w + \".mp3\")\n",
    "    save(de_w, \"de\", file=\"./A1/almanca_kelimeler/\" + tr_w + \".mp3\")"
   ]
  },
  {
   "cell_type": "code",
   "execution_count": null,
   "metadata": {},
   "outputs": [],
   "source": [
    "from text_to_speech import save\n",
    "\n",
    "for e, (tr_w, de_w) in enumerate(zip(tr2_words[430:], de2_words[430:])):\n",
    "    if e%50 == 0:\n",
    "        print(e)\n",
    "    save(tr_w, \"tr\", file=\"./A2/türkçe_kelimeler/\" + tr_w + \".mp3\")\n",
    "    save(de_w, \"de\", file=\"./A2/almanca_kelimeler/\" + tr_w + \".mp3\")"
   ]
  },
  {
   "cell_type": "code",
   "execution_count": null,
   "metadata": {},
   "outputs": [],
   "source": [
    "from pytube import YouTube, Playlist\n",
    "import os\n",
    "import moviepy.editor as mp\n",
    "import re\n",
    "from datetime import datetime\n",
    "from pydub import AudioSegment"
   ]
  },
  {
   "cell_type": "code",
   "execution_count": null,
   "metadata": {},
   "outputs": [],
   "source": [
    "from pydub import AudioSegment\n",
    "import os\n",
    "\n",
    "# Set the paths to the input folders and create the output folder\n",
    "folder1_path = './A1/türkçe_kelimeler'\n",
    "folder2_path = './A1/almanca_kelimeler'\n",
    "folder3_path = './A1/birleşik_kelimeler'\n",
    "\n",
    "os.makedirs(folder3_path, exist_ok=True)\n",
    "\n",
    "# Iterate over the files in folder1\n",
    "for filename, de_word in zip(os.listdir(folder1_path), os.listdir(folder2_path)):\n",
    "    if filename.endswith(\".mp3\"):\n",
    "        # Load the files from folder1 and folder2\n",
    "        file1 = AudioSegment.from_file(os.path.join(folder1_path, filename))\n",
    "        file2 = AudioSegment.from_file(os.path.join(folder2_path, filename))\n",
    "\n",
    "        # Add 3 seconds of silence\n",
    "        silence = AudioSegment.silent(duration=1500)  # 1000 milliseconds = 1 seconds\n",
    "\n",
    "        # Concatenate the audio segments\n",
    "        concatenated_audio = file1 + silence + file2 + silence\n",
    "\n",
    "        # Export the concatenated audio to folder3\n",
    "        output_filename = os.path.join(folder3_path, filename[:-4] + \" = \" + de_word)\n",
    "        concatenated_audio.export(output_filename, format=\"mp3\")\n",
    "    \n",
    "print(\"Concatenation completed.\")\n"
   ]
  },
  {
   "cell_type": "code",
   "execution_count": null,
   "metadata": {},
   "outputs": [],
   "source": [
    "filename[:-4] + \" = \" + de_word + \".mp3\""
   ]
  },
  {
   "cell_type": "code",
   "execution_count": null,
   "metadata": {},
   "outputs": [],
   "source": [
    "import os\n",
    "import random\n",
    "import string\n",
    "\n",
    "# Function to generate a random 8-digit unique number\n",
    "def generate_unique_number(existing_numbers):\n",
    "    while True:\n",
    "        new_number = ''.join(random.choices(string.digits, k=8))\n",
    "        if new_number not in existing_numbers:\n",
    "            existing_numbers.add(new_number)\n",
    "            return new_number\n",
    "\n",
    "# Define the folder path\n",
    "folder_path = './A2/birleşik_kelimeler_de_tr'\n",
    "\n",
    "# Get a list of all files in the folder\n",
    "files = os.listdir(folder_path)\n",
    "\n",
    "# Initialize a set to keep track of existing numbers\n",
    "existing_numbers = set()\n",
    "\n",
    "# Rename files with unique numbers\n",
    "for filename in files:\n",
    "    if os.path.isfile(os.path.join(folder_path, filename)):\n",
    "        new_number = generate_unique_number(existing_numbers)\n",
    "        new_filename = f\"{new_number}{os.path.splitext(filename)[1]}\"\n",
    "        os.rename(os.path.join(folder_path, filename), os.path.join(folder_path, new_filename))\n",
    "\n",
    "print(\"All files have been renamed with unique numbers.\")\n"
   ]
  }
 ],
 "metadata": {
  "kernelspec": {
   "display_name": "Python 3.10.6 64-bit",
   "language": "python",
   "name": "python3"
  },
  "language_info": {
   "codemirror_mode": {
    "name": "ipython",
    "version": 3
   },
   "file_extension": ".py",
   "mimetype": "text/x-python",
   "name": "python",
   "nbconvert_exporter": "python",
   "pygments_lexer": "ipython3",
   "version": "3.9.13"
  },
  "orig_nbformat": 4,
  "vscode": {
   "interpreter": {
    "hash": "916dbcbb3f70747c44a77c7bcd40155683ae19c65e1c03b4aa3499c5328201f1"
   }
  }
 },
 "nbformat": 4,
 "nbformat_minor": 2
}
